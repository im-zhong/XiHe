{
 "cells": [
  {
   "cell_type": "code",
   "execution_count": null,
   "id": "a9a49808",
   "metadata": {},
   "outputs": [
    {
     "data": {
      "application/vnd.jupyter.widget-view+json": {
       "model_id": "abd66d609e3544d38cdddcf676712fbc",
       "version_major": 2,
       "version_minor": 0
      },
      "text/plain": [
       "Resolving data files:   0%|          | 0/22 [00:00<?, ?it/s]"
      ]
     },
     "metadata": {},
     "output_type": "display_data"
    },
    {
     "name": "stdout",
     "output_type": "stream",
     "text": [
      "DatasetInfo(description='',\n",
      "            citation='',\n",
      "            homepage='',\n",
      "            license='',\n",
      "            features=None,\n",
      "            post_processed=None,\n",
      "            supervised_keys=None,\n",
      "            builder_name='json',\n",
      "            dataset_name='arxiv_papers',\n",
      "            config_name='default',\n",
      "            version=0.0.0,\n",
      "            splits=None,\n",
      "            download_checksums=None,\n",
      "            download_size=None,\n",
      "            post_processing_size=None,\n",
      "            dataset_size=None,\n",
      "            size_in_bytes=None)\n"
     ]
    }
   ],
   "source": [
    "from datasets import load_dataset_builder\n",
    "from pprint import pprint\n",
    "\n",
    "arxiv = load_dataset_builder(\"common-pile/arxiv_papers\")\n",
    "pprint(arxiv.info, compact=True)"
   ]
  }
 ],
 "metadata": {
  "kernelspec": {
   "display_name": "xihe",
   "language": "python",
   "name": "python3"
  },
  "language_info": {
   "codemirror_mode": {
    "name": "ipython",
    "version": 3
   },
   "file_extension": ".py",
   "mimetype": "text/x-python",
   "name": "python",
   "nbconvert_exporter": "python",
   "pygments_lexer": "ipython3",
   "version": "3.12.9"
  }
 },
 "nbformat": 4,
 "nbformat_minor": 5
}
